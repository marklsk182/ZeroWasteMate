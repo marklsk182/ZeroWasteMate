{
 "cells": [
  {
   "cell_type": "markdown",
   "id": "a5294a9d",
   "metadata": {},
   "source": [
    "<img src=\"http://imgur.com/1ZcRyrc.png\" style=\"float: left; margin: 20px; height: 55px\">\n",
    "\n",
    "#  Project Title: ZeroWasteMate - Freshness Tracker for Eco-Conscious Households"
   ]
  },
  {
   "cell_type": "markdown",
   "id": "5b703e92",
   "metadata": {},
   "source": [
    "---\n",
    "## Introduction \n",
    "\n",
    "Among all types of waste in Singapore, food waste is one of the largest waste streams and it is has grown around 20% overthe last 10 years. In 2019, Singapore generated approximately 744 million kilograms of food waste. This significant amount of food waste poses a huge concern, as it necessitates the construction of more disposal facilities, such as incinerators, to reduce this waste to ashes. However, the process of burning food waste requires a substantial amount of heat energy and emits large quantities of carbon dioxide, which are harmful to the environment\n",
    "\n",
    "Food waste makes up about half of the average waste disposed of each household daily. which more than half of household food waste can be prevented or avoidable, such as expired food, spoil fruits and vegetables and rotten ingredients as well. \n"
   ]
  },
  {
   "cell_type": "markdown",
   "id": "a7fdef61",
   "metadata": {},
   "source": [
    "## Background \n",
    "\n",
    "Given the high cost of living in Singapore, or due to dietary restrictions, cooking at home becomes a necessity for Singaporeans. With both parents in a household often committed to their work, they might shop for groceries less frequently but in large quantities. This can lead to overbuying, especially of perishable items, which may spoil before they are consumed. Every fresh ingredient has a certain lifespan; purchasing fresh ingredients in large quantities without tracking them can definitely contribute to food wastage, as couples may forget they have these ingredients in their fridge. Moreover, it is a waste of money as well to keep buying and throwing away ingredients when they spoil. \n"
   ]
  },
  {
   "cell_type": "markdown",
   "id": "6cc8274d",
   "metadata": {},
   "source": [
    "## Problem statement \n",
    "\n",
    "To address the pressing issue of food waste in Singapore, this project proposes the development and implementation of a fresh ingredient recognizer and tracker system. This innovative system aims to reduce avoidable food wastage by leveraging technology to monitor and manage perishable food items. The system will function by:\n",
    "\n",
    "1. Identifying the freshness level of ingredients using recognition technology.\n",
    "2. Storing this freshness information in a database.\n",
    "3. Actively monitoring the shelf life of these ingredients.\n",
    "4. Sending timely reminders to users about the status of their stored ingredients, including a list of items at risk of spoiling within a certain number of days.\n"
   ]
  },
  {
   "cell_type": "markdown",
   "id": "f9d357e9",
   "metadata": {},
   "source": [
    "## Objectives  \n",
    "\n",
    "The goal of this system is to prompt more efficient use of perishable foods, thereby reducing the amount of waste generated due to spoilage. This approach not only seeks to mitigate the environmental impact of food waste but also aims to provide a practical solution for busy households and businesses to manage their food resources more effectively.\n"
   ]
  },
  {
   "cell_type": "markdown",
   "id": "2ecd7a6c",
   "metadata": {},
   "source": [
    "## Dataset \n",
    "\n",
    "1. Labeled datasets of cabbage with 3 different classes fresh, slightly unfresh and unfresh\n",
    "2. Labeled datasets of cauliflower with 3 different classes fresh, slightly unfresh and unfresh\n",
    "3. labeled datasets of red chili with 3 different classes fresh, slightly unfresh and unfresh\n",
    "4. Labeled datasets of cherry tomatoes with 3 different classes fresh, slightly unfresh and unfresh\n",
    "5. Labeled datasets of green chili with 2 different classes fresh and unfresh\n",
    "6. Labeled datasets of tomatoes with 3 different classes fresh, slightly unfresh and unfresh\n",
    "\n",
    "\n",
    "## Success Metrics \n",
    "\n",
    "The primary metric for assessing the success of the ZeroWasteMate is its accuracy in identifying fresh ingredients and determining their freshness levels. Accuracy in this context encompasses two key aspects:\n",
    "\n",
    "Recognition Accuracy: The system's ability to correctly identify different types of fresh ingredients. This involves distinguishing between various fruits and vegetables\n",
    "\n",
    "Freshness Level Accuracy: The system's capability to accurately assess the freshness level of each identified ingredient. This requires evaluating the state of the ingredient and estimating how many days remain before it will spoil.\n",
    "\n",
    "The Second success metrx would be the system's capability to recommend the correct recipes base on the ingredient and it's freshness level  \n",
    "\n",
    "\n",
    "## Packages and Tools \n",
    "\n",
    "1. Tensorflow 2.14.0\n",
    "2. Tensorflow.keras.preprocessing.image\n",
    "2. Tensorflow.keras.applications EfficientNetB3/EfficientNetB7/MobileNetV2/InceptionV3\n",
    "3. Sklearn 1.3.1\n",
    "4. Sklearn.metrics jaccard_score\n",
    "\n",
    "\n",
    "---\n",
    "\n",
    "### Links for background research: \n",
    "\n",
    "1. https://www.towardszerowaste.gov.sg/zero-waste-masterplan/chapter3/food/#:~:text=OFF%2DSITE%3A%20TURNING%20FOOD%20WASTE,mixed%20with%20used%20water%20sludge.\n",
    "\n",
    "2. https://www.sg101.gov.sg/resources/connexionsg/foodwaste/\n",
    "\n",
    "3. https://www.towardszerowaste.gov.sg/foodwaste/\n",
    "\n",
    "### Links for dataset research:\n",
    "\n",
    "1. https://universe.roboflow.com/penulisan-ilmiah-dataset/cabbage-detection\n",
    "\n",
    "2. https://universe.roboflow.com/leaf-detection-7puag/diseasedleafdetection\n",
    "\n",
    "3. https://universe.roboflow.com/mseleznova/chilli-pepper\n",
    "\n",
    "4. https://universe.roboflow.com/maher-9tnii/ripe-tomatoes\n",
    "\n",
    "5. https://universe.roboflow.com/penelitian-lpgmn/tomato-detection-fresh-or-rotten-using-yolov8\n",
    "---"
   ]
  },
  {
   "cell_type": "markdown",
   "id": "8c324a17",
   "metadata": {},
   "source": [
    "# 1.0 Image Augmentation"
   ]
  },
  {
   "cell_type": "code",
   "execution_count": 3,
   "id": "1ac28b78",
   "metadata": {},
   "outputs": [],
   "source": [
    "# Import libraries\n",
    "import numpy as np \n",
    "import os\n",
    "\n",
    "# Data preprocessing  \n",
    "from tensorflow.keras.preprocessing.image import ImageDataGenerator, img_to_array, load_img"
   ]
  },
  {
   "cell_type": "code",
   "execution_count": 2,
   "id": "c7801faa",
   "metadata": {},
   "outputs": [],
   "source": [
    "# Creating a function that helps to boost up the number of pictures\n",
    "def augment_images(image_dir, num_images_needed):\n",
    "    # get a list of all image filenames in the directory that end with .jpg or .png\n",
    "    image_filenames = [name for name in os.listdir(image_dir) if name.endswith(('.jpg', '.png'))]\n",
    "    \n",
    "    # If there are no images, exit the function to avoid division by zero\n",
    "    if not image_filenames:\n",
    "        return \n",
    "    \n",
    "    num_original_images = len(image_filenames)\n",
    "    \n",
    "    for filename in image_filenames:\n",
    "        if num_images_needed <=0:\n",
    "            break\n",
    "        \n",
    "        img_path = os.path.join(image_dir, filename)\n",
    "        image = load_img(img_path)\n",
    "        image = img_to_array(image)\n",
    "        image = image.reshape((1,)+image.shape)\n",
    "        \n",
    "        prefix = filename.split('.')[0][:10]  # the first 10 characters\n",
    "        i = 0\n",
    "        \n",
    "        for _ in datagen.flow(image, batch_size=1, save_to_dir=image_dir,\n",
    "                              save_prefix=prefix, save_format='jpg'):\n",
    "            i += 1\n",
    "            \n",
    "            if i >= (num_images_needed // num_original_images):\n",
    "                break\n",
    "                \n",
    "            num_images_needed -= 1 \n",
    "            "
   ]
  },
  {
   "cell_type": "markdown",
   "id": "6fc5dcac",
   "metadata": {},
   "source": [
    "## 1.1 Preparation of train dataset \n",
    "\n",
    "Due to the limited availability of fresh, slightly unfresh, and unfresh ingredient pictures in my dataset, I aim to ensure that an equal number of pictures is available for each freshness level within every ingredient categories. This balance is crucial to prevent bias during the later stages of model training.\n",
    "\n",
    "There were six types of ingredients, and each ingredient had three classes of freshness levels, except for Green Chili. Green Chili does not have the 'slightly unfresh' class because green chili naturally progresses to become red chili."
   ]
  },
  {
   "cell_type": "code",
   "execution_count": 16,
   "id": "43431ddd",
   "metadata": {},
   "outputs": [],
   "source": [
    "target_count = 500 \n",
    "classes = ['fresh','slightly_unfresh','unfresh'] #'fresh','slightly_unfresh','unfresh'\n",
    "ingredients = ['cabbage','cauliflower','green_chili', 'red_chili',\n",
    "               'tomatoes', 'cherry_tomatoes']  #'cabbage','cauliflower','green_chili', 'red_chili','tomatoes', 'cherry_tomatoes'\n",
    "base_dir = 'final_clean_data/train' \n",
    "\n",
    "datagen = ImageDataGenerator(rotation_range=25,\n",
    "                            width_shift_range=0.15,\n",
    "                            height_shift_range=0.15,\n",
    "                            shear_range=0.15,\n",
    "                            zoom_range=0.15,\n",
    "                            horizontal_flip=True,\n",
    "                            fill_mode='nearest')\n"
   ]
  },
  {
   "cell_type": "code",
   "execution_count": 17,
   "id": "5abc4ce7",
   "metadata": {},
   "outputs": [
    {
     "name": "stdout",
     "output_type": "stream",
     "text": [
      "CPU times: total: 0 ns\n",
      "Wall time: 0 ns\n"
     ]
    }
   ],
   "source": [
    "%time\n",
    "\n",
    "for ingredient in ingredients:\n",
    "    for cls in classes:\n",
    "        class_dir = os.path.join(base_dir, ingredient, cls)\n",
    "        num_images = len([name for name in os.listdir(class_dir) if os.path.isfile(os.path.join(class_dir, name))])\n",
    "        \n",
    "        if num_images < target_count: \n",
    "            augment_images(class_dir, target_count - num_images)"
   ]
  },
  {
   "cell_type": "markdown",
   "id": "50fc6fa9",
   "metadata": {},
   "source": [
    "## 1.2 Preparation of test dataset \n",
    "\n",
    "For test dataset, aim to have 50 pictures for each freshness level within every ingredient categories."
   ]
  },
  {
   "cell_type": "code",
   "execution_count": 18,
   "id": "1f3a27e7",
   "metadata": {},
   "outputs": [],
   "source": [
    "# Ensure every classes have more than 50 images\n",
    "target_count = 50 \n",
    "classes = ['fresh','slightly_unfresh','unfresh']\n",
    "ingredients = ['cabbage','cauliflower','green_chili', 'red_chili',\n",
    "               'tomatoes', 'cherry_tomatoes']\n",
    "base_dir = 'final_clean_data/test' \n",
    "\n",
    "datagen = ImageDataGenerator(rotation_range=25,\n",
    "                            width_shift_range=0.15,\n",
    "                            height_shift_range=0.15,\n",
    "                            shear_range=0.15,\n",
    "                            zoom_range=0.15,\n",
    "                            horizontal_flip=True,\n",
    "                            fill_mode='nearest')\n"
   ]
  },
  {
   "cell_type": "code",
   "execution_count": 19,
   "id": "31a4ead7",
   "metadata": {},
   "outputs": [
    {
     "name": "stdout",
     "output_type": "stream",
     "text": [
      "CPU times: total: 0 ns\n",
      "Wall time: 0 ns\n"
     ]
    }
   ],
   "source": [
    "%time\n",
    "\n",
    "for ingredient in ingredients:\n",
    "    for cls in classes:\n",
    "        class_dir = os.path.join(base_dir, ingredient, cls)\n",
    "        num_images = len([name for name in os.listdir(class_dir) if os.path.isfile(os.path.join(class_dir, name))])\n",
    "        \n",
    "        if num_images < target_count: \n",
    "            augment_images(class_dir, target_count - num_images)"
   ]
  },
  {
   "cell_type": "markdown",
   "id": "ba1d0756",
   "metadata": {},
   "source": [
    "## 1.3 Preparation of valid dataset \n",
    "\n",
    "For validation dataset, aim to have 50 pictures for each freshness level within every ingredient categories."
   ]
  },
  {
   "cell_type": "code",
   "execution_count": 7,
   "id": "1f5bfb42",
   "metadata": {},
   "outputs": [],
   "source": [
    "# Ensure every classes have more than 50 images\n",
    "target_count = 50 \n",
    "classes = 'fresh','slightly_unfresh','unfresh']\n",
    "ingredients = ['cabbage','cauliflower','green_chili', 'red_chili',\n",
    "               'tomatoes', 'cherry_tomatoes']\n",
    "base_dir = 'final_clean_data/valid' \n",
    "\n",
    "datagen = ImageDataGenerator(rotation_range=25,\n",
    "                            width_shift_range=0.15,\n",
    "                            height_shift_range=0.15,\n",
    "                            shear_range=0.15,\n",
    "                            zoom_range=0.15,\n",
    "                            horizontal_flip=True,\n",
    "                            fill_mode='nearest')\n"
   ]
  },
  {
   "cell_type": "code",
   "execution_count": 8,
   "id": "b6f5ad02",
   "metadata": {},
   "outputs": [
    {
     "name": "stdout",
     "output_type": "stream",
     "text": [
      "CPU times: total: 0 ns\n",
      "Wall time: 0 ns\n"
     ]
    }
   ],
   "source": [
    "%time\n",
    "\n",
    "for ingredient in ingredients:\n",
    "    for cls in classes:\n",
    "        class_dir = os.path.join(base_dir, ingredient, cls)\n",
    "        num_images = len([name for name in os.listdir(class_dir) if os.path.isfile(os.path.join(class_dir, name))])\n",
    "        \n",
    "        if num_images < target_count: \n",
    "            augment_images(class_dir, target_count - num_images)"
   ]
  }
 ],
 "metadata": {
  "kernelspec": {
   "display_name": "Python 3 (ipykernel)",
   "language": "python",
   "name": "python3"
  },
  "language_info": {
   "codemirror_mode": {
    "name": "ipython",
    "version": 3
   },
   "file_extension": ".py",
   "mimetype": "text/x-python",
   "name": "python",
   "nbconvert_exporter": "python",
   "pygments_lexer": "ipython3",
   "version": "3.10.9"
  }
 },
 "nbformat": 4,
 "nbformat_minor": 5
}
